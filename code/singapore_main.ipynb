{
 "nbformat": 4,
 "nbformat_minor": 2,
 "metadata": {
  "language_info": {
   "name": "python",
   "codemirror_mode": {
    "name": "ipython",
    "version": 3
   }
  },
  "orig_nbformat": 2,
  "file_extension": ".py",
  "mimetype": "text/x-python",
  "name": "python",
  "npconvert_exporter": "python",
  "pygments_lexer": "ipython3",
  "version": 3
 },
 "cells": [
  {
   "cell_type": "code",
   "execution_count": 1,
   "metadata": {},
   "outputs": [],
   "source": [
    "import pandas as pd\n",
    "import numpy as np"
   ]
  },
  {
   "cell_type": "code",
   "execution_count": 5,
   "metadata": {},
   "outputs": [
    {
     "data": {
      "text/html": "<div>\n<style scoped>\n    .dataframe tbody tr th:only-of-type {\n        vertical-align: middle;\n    }\n\n    .dataframe tbody tr th {\n        vertical-align: top;\n    }\n\n    .dataframe thead th {\n        text-align: right;\n    }\n</style>\n<table border=\"1\" class=\"dataframe\">\n  <thead>\n    <tr style=\"text-align: right;\">\n      <th></th>\n      <th>id</th>\n      <th>name</th>\n      <th>host_id</th>\n      <th>host_name</th>\n      <th>neighbourhood_group</th>\n      <th>neighbourhood</th>\n      <th>latitude</th>\n      <th>longitude</th>\n      <th>room_type</th>\n      <th>price</th>\n      <th>minimum_nights</th>\n      <th>number_of_reviews</th>\n      <th>last_review</th>\n      <th>reviews_per_month</th>\n      <th>calculated_host_listings_count</th>\n      <th>availability_365</th>\n    </tr>\n  </thead>\n  <tbody>\n    <tr>\n      <th>0</th>\n      <td>49091</td>\n      <td>COZICOMFORT LONG TERM STAY ROOM 2</td>\n      <td>266763</td>\n      <td>Francesca</td>\n      <td>North Region</td>\n      <td>Woodlands</td>\n      <td>1.44255</td>\n      <td>103.79580</td>\n      <td>Private room</td>\n      <td>83</td>\n      <td>180</td>\n      <td>1</td>\n      <td>2013-10-21</td>\n      <td>0.01</td>\n      <td>2</td>\n      <td>365</td>\n    </tr>\n    <tr>\n      <th>1</th>\n      <td>50646</td>\n      <td>Pleasant Room along Bukit Timah</td>\n      <td>227796</td>\n      <td>Sujatha</td>\n      <td>Central Region</td>\n      <td>Bukit Timah</td>\n      <td>1.33235</td>\n      <td>103.78521</td>\n      <td>Private room</td>\n      <td>81</td>\n      <td>90</td>\n      <td>18</td>\n      <td>2014-12-26</td>\n      <td>0.28</td>\n      <td>1</td>\n      <td>365</td>\n    </tr>\n    <tr>\n      <th>2</th>\n      <td>56334</td>\n      <td>COZICOMFORT</td>\n      <td>266763</td>\n      <td>Francesca</td>\n      <td>North Region</td>\n      <td>Woodlands</td>\n      <td>1.44246</td>\n      <td>103.79667</td>\n      <td>Private room</td>\n      <td>69</td>\n      <td>6</td>\n      <td>20</td>\n      <td>2015-10-01</td>\n      <td>0.20</td>\n      <td>2</td>\n      <td>365</td>\n    </tr>\n    <tr>\n      <th>3</th>\n      <td>71609</td>\n      <td>Ensuite Room (Room 1 &amp; 2) near EXPO</td>\n      <td>367042</td>\n      <td>Belinda</td>\n      <td>East Region</td>\n      <td>Tampines</td>\n      <td>1.34541</td>\n      <td>103.95712</td>\n      <td>Private room</td>\n      <td>206</td>\n      <td>1</td>\n      <td>14</td>\n      <td>2019-08-11</td>\n      <td>0.15</td>\n      <td>9</td>\n      <td>353</td>\n    </tr>\n    <tr>\n      <th>4</th>\n      <td>71896</td>\n      <td>B&amp;B  Room 1 near Airport &amp; EXPO</td>\n      <td>367042</td>\n      <td>Belinda</td>\n      <td>East Region</td>\n      <td>Tampines</td>\n      <td>1.34567</td>\n      <td>103.95963</td>\n      <td>Private room</td>\n      <td>94</td>\n      <td>1</td>\n      <td>22</td>\n      <td>2019-07-28</td>\n      <td>0.22</td>\n      <td>9</td>\n      <td>355</td>\n    </tr>\n  </tbody>\n</table>\n</div>",
      "text/plain": "      id                                 name  host_id  host_name  \\\n0  49091    COZICOMFORT LONG TERM STAY ROOM 2   266763  Francesca   \n1  50646      Pleasant Room along Bukit Timah   227796    Sujatha   \n2  56334                          COZICOMFORT   266763  Francesca   \n3  71609  Ensuite Room (Room 1 & 2) near EXPO   367042    Belinda   \n4  71896      B&B  Room 1 near Airport & EXPO   367042    Belinda   \n\n  neighbourhood_group neighbourhood  latitude  longitude     room_type  price  \\\n0        North Region     Woodlands   1.44255  103.79580  Private room     83   \n1      Central Region   Bukit Timah   1.33235  103.78521  Private room     81   \n2        North Region     Woodlands   1.44246  103.79667  Private room     69   \n3         East Region      Tampines   1.34541  103.95712  Private room    206   \n4         East Region      Tampines   1.34567  103.95963  Private room     94   \n\n   minimum_nights  number_of_reviews last_review  reviews_per_month  \\\n0             180                  1  2013-10-21               0.01   \n1              90                 18  2014-12-26               0.28   \n2               6                 20  2015-10-01               0.20   \n3               1                 14  2019-08-11               0.15   \n4               1                 22  2019-07-28               0.22   \n\n   calculated_host_listings_count  availability_365  \n0                               2               365  \n1                               1               365  \n2                               2               365  \n3                               9               353  \n4                               9               355  "
     },
     "execution_count": 5,
     "metadata": {},
     "output_type": "execute_result"
    }
   ],
   "source": [
    "sp_data = pd.read_csv('./data/singapore_listings.csv')\n",
    "sp_data.head()"
   ]
  },
  {
   "cell_type": "code",
   "execution_count": null,
   "metadata": {},
   "outputs": [],
   "source": []
  }
 ]
}